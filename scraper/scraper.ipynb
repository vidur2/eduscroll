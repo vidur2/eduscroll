{
 "cells": [
  {
   "cell_type": "code",
   "execution_count": 1,
   "metadata": {},
   "outputs": [],
   "source": [
    "import requests\n",
    "from bs4 import BeautifulSoup\n",
    "from pypdf import PdfReader\n",
    "baseUrl = \"https://www.libgen.is\"\n",
    "possibleMirrors = [\"Libgen & IPFS & Tor\", \"Libgen.li\"]"
   ]
  },
  {
   "cell_type": "code",
   "execution_count": 2,
   "metadata": {},
   "outputs": [
    {
     "data": {
      "text/plain": [
       "['http://library.lol/main/C8DC151FEA06801234226EB007D07A35',\n",
       " 'http://library.lol/main/4E62671B660EDB4841F2060F25BCC202',\n",
       " 'http://library.lol/main/2FBC2C95430915DD0016C93972441BDE',\n",
       " 'http://library.lol/main/62E060CDE0E8FF40DDA8EAAA1C76A3D5',\n",
       " 'http://library.lol/main/6C4B2D7B072A22AE2D51462C2CD020F0',\n",
       " 'http://library.lol/main/906EDBB95519949699FCE0F6360AF6DC',\n",
       " 'http://library.lol/main/97DADB2DCFE51E3BC54FD098F92872EC',\n",
       " 'http://library.lol/main/9FEA1F76FDEE7103EEB91DF3FD007DB6',\n",
       " 'http://library.lol/main/EA2E676CBF64C3767D54317009F5766A',\n",
       " 'http://library.lol/main/96AF254CFEA5F6CA271C4BEB620B0508',\n",
       " 'http://library.lol/main/0B1CA42EE829C6DA5E185382FD4372F5',\n",
       " 'http://library.lol/main/FCB0B7B5666BF2ED849AABFEEAE172F8',\n",
       " 'http://library.lol/main/8850992344666ED82459E6BE10FE9096',\n",
       " 'http://library.lol/main/2B0AAADE4E03BB41C958227C7008A82A',\n",
       " 'http://library.lol/main/F64131A43E6F5C704B694E272BAF00C6',\n",
       " 'http://library.lol/main/22994A4864D0597CDB10872EC9C05D1C',\n",
       " 'http://library.lol/main/0F32B4286772EA1755C957B26EE5D6F0',\n",
       " 'http://library.lol/main/16CC82FFB9C2CA9D6AB05F2A3CFF9C04',\n",
       " 'http://library.lol/main/5BB36410B288CD7F282857FFDB2D2156',\n",
       " 'http://library.lol/main/89DF9E3F4D10939EBE66AB3C4A62EB95',\n",
       " 'http://library.lol/main/5A25E004F447C402FA1608F513FC6CB7',\n",
       " 'http://library.lol/main/BEE91739449B9947DB6A4084B217F099',\n",
       " 'http://library.lol/main/DFC4E4554B94FE6CA429105B8DBD73C8',\n",
       " 'http://library.lol/main/D49E24C7ACF1C98197F67B380E264F88',\n",
       " 'http://library.lol/main/2A022C6B424FB03FDE304C34B1BA6A4E']"
      ]
     },
     "execution_count": 2,
     "metadata": {},
     "output_type": "execute_result"
    }
   ],
   "source": [
    "subject = \"Beginning and Intermediate Algebra\"\n",
    "searchUrl = f\"{baseUrl}/search.php?req={subject}\"\n",
    "res = requests.get(searchUrl)\n",
    "parser = BeautifulSoup(res.content, \"html\")\n",
    "urls = [x.get(\"href\") for x in parser.find_all(\"a\") if x.get(\"title\") in possibleMirrors and x.getText() == \"[1]\"]\n",
    "urls"
   ]
  },
  {
   "cell_type": "code",
   "execution_count": 3,
   "metadata": {},
   "outputs": [],
   "source": [
    "s = requests.Session()\n",
    "links = []\n",
    "for url in urls:\n",
    "    res = s.get(url)\n",
    "    parser = BeautifulSoup(res.content, \"html\")\n",
    "    links += [link.get(\"href\") for link in parser.find_all(\"a\") if link.getText() == \"GET\"]"
   ]
  },
  {
   "cell_type": "code",
   "execution_count": 4,
   "metadata": {},
   "outputs": [],
   "source": [
    "for link in links:\n",
    "    # TODO query vector db here"
   ]
  },
  {
   "cell_type": "code",
   "execution_count": 14,
   "metadata": {},
   "outputs": [],
   "source": []
  },
  {
   "cell_type": "code",
   "execution_count": 18,
   "metadata": {},
   "outputs": [],
   "source": []
  }
 ],
 "metadata": {
  "kernelspec": {
   "display_name": "Python 3 (ipykernel)",
   "language": "python",
   "name": "python3"
  },
  "language_info": {
   "codemirror_mode": {
    "name": "ipython",
    "version": 3
   },
   "file_extension": ".py",
   "mimetype": "text/x-python",
   "name": "python",
   "nbconvert_exporter": "python",
   "pygments_lexer": "ipython3",
   "version": "3.11.3"
  }
 },
 "nbformat": 4,
 "nbformat_minor": 2
}
